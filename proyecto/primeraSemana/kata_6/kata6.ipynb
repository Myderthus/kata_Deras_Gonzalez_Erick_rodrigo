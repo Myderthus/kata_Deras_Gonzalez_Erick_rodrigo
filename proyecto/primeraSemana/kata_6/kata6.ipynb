{
 "cells": [
  {
   "cell_type": "markdown",
   "metadata": {},
   "source": [
    "Ejercicio1: Crear y usar listas de Python\n",
    "Ejercicio: Usar listas para almacenar nombres de planetas\n",
    "Las listas permiten almacenar varios valores en una sola variable. Comenzarás un proyecto sobre información planetaria creando una lista de planetas."
   ]
  },
  {
   "cell_type": "code",
   "execution_count": 1,
   "metadata": {},
   "outputs": [
    {
     "name": "stdout",
     "output_type": "stream",
     "text": [
      "La cantidad de planetas actuales en la lista es: 8\n"
     ]
    }
   ],
   "source": [
    "planets = ['Mercurio', 'Venur', 'Tierra', 'Marte', 'Jupiter', 'Saturno', 'Urano', 'Neptuno']\n",
    "number_of_planets = len(planets)\n",
    "\n",
    "print(f'La cantidad de planetas actuales en la lista es: {number_of_planets}')"
   ]
  },
  {
   "cell_type": "code",
   "execution_count": 2,
   "metadata": {},
   "outputs": [
    {
     "name": "stdout",
     "output_type": "stream",
     "text": [
      "La nueva cantidad de planetas es: 9 y el ultimmo planeta agregado es Pluton\n"
     ]
    }
   ],
   "source": [
    "planets.append('Pluton')\n",
    "number_of_planets = len(planets)\n",
    "print(f'La nueva cantidad de planetas es: {number_of_planets} y el ultimmo planeta agregado es {planets[len(planets)-1]}')"
   ]
  },
  {
   "cell_type": "markdown",
   "metadata": {},
   "source": [
    "Ejercicio 2: Trabajando con datos de una lista\n",
    "Usar slices para recuperar partes de una lista\n",
    "Es posible que debas trabajar con diferentes secciones de una lista. En nuestro ejemplo, queremos mostrar planetas más cerca y más lejos del sol de un planeta que el usuario ingresa por teclado."
   ]
  },
  {
   "cell_type": "code",
   "execution_count": 6,
   "metadata": {},
   "outputs": [
    {
     "name": "stdout",
     "output_type": "stream",
     "text": [
      "el planeta ingrsado es marte\n"
     ]
    }
   ],
   "source": [
    "planets = ['mercurio', 'venus', 'tierra', 'marte', 'jupiter', 'saturno', 'urano', 'Neptuno']\n",
    "\n",
    "input_planet = input('Ingresa el nombre de un planeta')\n",
    "\n",
    "print(f'el planeta ingrsado es {input_planet.lower()}')"
   ]
  },
  {
   "cell_type": "code",
   "execution_count": 8,
   "metadata": {},
   "outputs": [
    {
     "name": "stdout",
     "output_type": "stream",
     "text": [
      "los planetas mas cercanos al sol desde la posicion del planeta ingresado son: ['mercurio', 'venus', 'tierra']\n"
     ]
    }
   ],
   "source": [
    "index_planet = planets.index(input_planet.lower())\n",
    "\n",
    "print(f'los planetas mas cercanos al sol desde la posicion del planeta ingresado son: {planets[0:index_planet]}')"
   ]
  },
  {
   "cell_type": "code",
   "execution_count": 10,
   "metadata": {},
   "outputs": [
    {
     "name": "stdout",
     "output_type": "stream",
     "text": [
      "los planetas mas lejanos al sol desde la posicion del planeta ingresado son: ['jupiter', 'saturno', 'urano', 'Neptuno']\n"
     ]
    }
   ],
   "source": [
    "print(f'los planetas mas lejanos al sol desde la posicion del planeta ingresado son: {planets[index_planet + 1:]}')"
   ]
  }
 ],
 "metadata": {
  "interpreter": {
   "hash": "1e309823aefdd3a222d82f504e51c656b7b13c086dde226daa6dd52365f564b4"
  },
  "kernelspec": {
   "display_name": "Python 3.10.2 64-bit (windows store)",
   "language": "python",
   "name": "python3"
  },
  "language_info": {
   "codemirror_mode": {
    "name": "ipython",
    "version": 3
   },
   "file_extension": ".py",
   "mimetype": "text/x-python",
   "name": "python",
   "nbconvert_exporter": "python",
   "pygments_lexer": "ipython3",
   "version": "3.10.2"
  },
  "orig_nbformat": 4
 },
 "nbformat": 4,
 "nbformat_minor": 2
}
