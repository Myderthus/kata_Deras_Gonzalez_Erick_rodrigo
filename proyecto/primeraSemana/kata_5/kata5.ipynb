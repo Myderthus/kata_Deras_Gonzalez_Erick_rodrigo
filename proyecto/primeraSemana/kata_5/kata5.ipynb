{
 "cells": [
  {
   "cell_type": "markdown",
   "metadata": {},
   "source": [
    "Ejercicio1 - Utilizar operadores aritméticos\n",
    "Operadores aritméticos en Python\n",
    "Python proporciona operadores aritméticos comunes para que puedas realizar operaciones matemáticas en tu código. Estos incluyen las cuatro operaciones principales de suma, resta, multiplicación y división.\n",
    "\n",
    "Exploremos cómo podemos crear un programa que pueda calcular la distancia entre dos planetas. Comenzaremos usando dos distancias de planetas: Tierra (149.597.870 km) y Júpiter (778.547.200 km)."
   ]
  },
  {
   "cell_type": "code",
   "execution_count": 4,
   "metadata": {},
   "outputs": [
    {
     "name": "stdout",
     "output_type": "stream",
     "text": [
      "la distancia entre la tierra  yjupiter es: 390577533.93 mi\n"
     ]
    }
   ],
   "source": [
    "earth = 149597870\n",
    "jupyter = 778547200\n",
    "\n",
    "distance = (jupyter - earth) * 0.621\n",
    "print(f'la distancia entre la tierra  yjupiter es: {distance} mi')"
   ]
  },
  {
   "cell_type": "markdown",
   "metadata": {},
   "source": [
    "Ejercicio 2: convierte cadenas en números y usa valores absolutos\n",
    "Crear una aplicación para trabajar con números y entrada de usuario\n",
    "Con frecuencia, deberás convertir los valores de cadena en números para realizar correctamente diferentes operaciones o determinar el valor absoluto de un número.\n",
    "\n",
    "Para crear nuestra aplicación, queremos leer la distancia del sol para dos planetas, y luego mostrar la distancia entre los planetas. Haremos esto usando input para leer los valores, int para convertir a entero y luego abs para convertir el resultado en su valor absoluto."
   ]
  },
  {
   "cell_type": "markdown",
   "metadata": {},
   "source": [
    "Prueba tu aplicación\n",
    "Para probar el proyecto, ejecuta tu notebook. En la parte superior de vscode surgirá un cuadro de diálogo para que proporciones las distancias. Puede utilizar los datos de la tabla siguiente:\n",
    "\n"
   ]
  },
  {
   "cell_type": "markdown",
   "metadata": {},
   "source": [
    "Planeta\tDistancia al sol\n",
    "Mercurio\t57900000\n",
    "Venus\t108200000\n",
    "Tierra\t149600000\n",
    "Marte\t227900000\n",
    "Júpiter\t778600000\n",
    "Saturno\t1433500000\n",
    "Urano\t2872500000\n",
    "Neptuno\t4495100000"
   ]
  },
  {
   "cell_type": "code",
   "execution_count": 5,
   "metadata": {},
   "outputs": [
    {
     "name": "stdout",
     "output_type": "stream",
     "text": [
      "La distancia entre los planetas ingresados es: 31236300.0 millas\n"
     ]
    }
   ],
   "source": [
    "first_planet = input('Introduzca la distancia del sol para el primer planeta en KM')\n",
    "second_planet = input('Introduzca la distancia desde el sol para el segundo planeta en KM')\n",
    "\n",
    "first_planet = int(first_planet)\n",
    "second_planet = int(second_planet)\n",
    "\n",
    "distance = abs(first_planet - second_planet) * 0.621\n",
    "\n",
    "print(f'La distancia entre los planetas ingresados es: {distance} millas')\n",
    "\n"
   ]
  }
 ],
 "metadata": {
  "interpreter": {
   "hash": "1e309823aefdd3a222d82f504e51c656b7b13c086dde226daa6dd52365f564b4"
  },
  "kernelspec": {
   "display_name": "Python 3.10.2 64-bit (windows store)",
   "language": "python",
   "name": "python3"
  },
  "language_info": {
   "codemirror_mode": {
    "name": "ipython",
    "version": 3
   },
   "file_extension": ".py",
   "mimetype": "text/x-python",
   "name": "python",
   "nbconvert_exporter": "python",
   "pygments_lexer": "ipython3",
   "version": "3.10.2"
  },
  "orig_nbformat": 4
 },
 "nbformat": 4,
 "nbformat_minor": 2
}
