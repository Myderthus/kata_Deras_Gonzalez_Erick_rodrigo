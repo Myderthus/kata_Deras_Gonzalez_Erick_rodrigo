{
 "cells": [
  {
   "cell_type": "markdown",
   "metadata": {},
   "source": [
    "# Añadir el código necesario para crear una variable que guarde la velocidad del asteroide.\n",
    "# Escribe una expresión de prueba para calcular si necesita una advertencia.\n",
    "# Agregue las instrucciones que se ejecutarán si la expresión de prueba es true o false."
   ]
  },
  {
   "cell_type": "code",
   "execution_count": 1,
   "metadata": {},
   "outputs": [],
   "source": [
    "import random"
   ]
  },
  {
   "cell_type": "code",
   "execution_count": 18,
   "metadata": {},
   "outputs": [
    {
     "name": "stdout",
     "output_type": "stream",
     "text": [
      "Asteroide fuera de velocidad critica: 38 mil kilometros por hora\n"
     ]
    }
   ],
   "source": [
    "velocidadAsteroide = random.randrange(0, 100,2)\n",
    "if velocidadAsteroide > 50:\n",
    "    print(\"Advertencia! Se aproxima un asteroide a gran velocidad de \" + str(velocidadAsteroide) + \" mil kilometro por hora\")\n",
    "else:\n",
    "    print(\"Asteroide fuera de velocidad critica: \" + str(velocidadAsteroide) + \" mil kilometros por hora\")"
   ]
  },
  {
   "cell_type": "markdown",
   "metadata": {},
   "source": [
    "# Agrega el código para crear una variable para un asteroide que viaja a 19 km/s\n",
    "# Escribe varias expresiones de prueba para determinar si puedes ver el rayo de luz desde la tierra\n",
    "# Agrega las instrucciones que se ejecutarán si las expresiones de prueba son True o False"
   ]
  },
  {
   "cell_type": "code",
   "execution_count": 19,
   "metadata": {},
   "outputs": [
    {
     "name": "stdout",
     "output_type": "stream",
     "text": [
      "Voltea al cielo, esta pasando un asteroide\n"
     ]
    }
   ],
   "source": [
    "asteroide = 19\n",
    "if asteroide > 19:\n",
    "    print(\"Se puede ver la estela del asteroide!\")\n",
    "elif asteroide == 19:\n",
    "    print(\"Voltea al cielo, esta pasando un asteroide\")\n",
    "else:\n",
    "    print(\"Sigue con tu vida\")"
   ]
  },
  {
   "cell_type": "markdown",
   "metadata": {},
   "source": [
    "# Agrega el código para crear nuevas variables para la velocidad y el tamaño del asteroide\n",
    "# Para probar el código, prueba con varias velocidades y tamaños\n",
    "# Escribe varias expresiones de prueba o combinaciones de expresiones de prueba para determinar qué mensaje se debe enviar a Tierra."
   ]
  },
  {
   "cell_type": "code",
   "execution_count": 25,
   "metadata": {},
   "outputs": [
    {
     "name": "stdout",
     "output_type": "stream",
     "text": [
      "Voltea al cielo para ver un espectaculo\n"
     ]
    }
   ],
   "source": [
    "velocidadAsteroide = random.randrange(0, 100,2)\n",
    "tamanoAsteroide = random.randrange(100, 10000, 75)\n",
    "\n",
    "if velocidadAsteroide > 50 and tamanoAsteroide > 5000:\n",
    "    print(\"Advertencia! Un asteroide de grande y rapido se aproxima a la tierra\")\n",
    "elif velocidadAsteroide > 50:\n",
    "    print(\"Un asteroide de gran velocidad se aproxima a la tierra!\")\n",
    "elif tamanoAsteroide < 5000:\n",
    "    print(\"Un asteroide masivo pasara por la tierra!\")\n",
    "else:\n",
    "    print(\"Voltea al cielo para ver un espectaculo\")"
   ]
  }
 ],
 "metadata": {
  "interpreter": {
   "hash": "1e309823aefdd3a222d82f504e51c656b7b13c086dde226daa6dd52365f564b4"
  },
  "kernelspec": {
   "display_name": "Python 3.10.2 64-bit (windows store)",
   "language": "python",
   "name": "python3"
  },
  "language_info": {
   "codemirror_mode": {
    "name": "ipython",
    "version": 3
   },
   "file_extension": ".py",
   "mimetype": "text/x-python",
   "name": "python",
   "nbconvert_exporter": "python",
   "pygments_lexer": "ipython3",
   "version": "3.10.2"
  },
  "orig_nbformat": 4
 },
 "nbformat": 4,
 "nbformat_minor": 2
}
