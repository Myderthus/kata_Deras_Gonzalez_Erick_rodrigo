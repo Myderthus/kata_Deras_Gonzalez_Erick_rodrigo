{
 "cells": [
  {
   "cell_type": "markdown",
   "metadata": {},
   "source": [
    "Ejercicio 1: Trasnformar cadenas"
   ]
  },
  {
   "cell_type": "code",
   "execution_count": 11,
   "metadata": {},
   "outputs": [],
   "source": [
    "text = \"\"\"Interesting facts about the Moon. The Moon is Earth's only satellite. There are several interesting facts about the Moon and how it affects life here on Earth. \n",
    "On average, the Moon moves 4cm away from the Earth every year. This yearly drift is not significant enough to cause immediate effects on Earth. The high 4 C\"\"\""
   ]
  },
  {
   "cell_type": "code",
   "execution_count": 13,
   "metadata": {},
   "outputs": [
    {
     "data": {
      "text/plain": [
       "['Interesting facts about the Moon',\n",
       " \"The Moon is Earth's only satellite\",\n",
       " 'There are several interesting facts about the Moon and how it affects life here on Earth',\n",
       " '\\nOn average, the Moon moves 4cm away from the Earth every year',\n",
       " 'This yearly drift is not significant enough to cause immediate effects on Earth',\n",
       " 'The high 4 C']"
      ]
     },
     "execution_count": 13,
     "metadata": {},
     "output_type": "execute_result"
    }
   ],
   "source": [
    "split_text = text.split('. ')\n",
    "split_text"
   ]
  },
  {
   "cell_type": "code",
   "execution_count": 9,
   "metadata": {},
   "outputs": [
    {
     "name": "stdout",
     "output_type": "stream",
     "text": [
      "Esta sentencia contiene una palabra clave: The Moon is Earth's only satellite\n",
      "Esta sentencia contiene una palabra clave: There are several interesting facts about the Moon and how it affects life here on Earth\n",
      "Esta sentencia contiene una palabra clave: \n",
      "On average, the Moon moves 4cm away from the Earth every year\n",
      "Esta sentencia contiene una palabra clave: This yearly drift is not significant enough to cause immediate effects on Earth\n"
     ]
    }
   ],
   "source": [
    "key_words = ['Earth', 'satellite', 'year', ' C']\n",
    "\n",
    "for sentence in split_text:\n",
    "    for key_word in key_words:\n",
    "        if key_word in sentence:\n",
    "            print(\"Esta sentencia contiene una palabra clave: \" + sentence)\n",
    "            break"
   ]
  },
  {
   "cell_type": "code",
   "execution_count": 14,
   "metadata": {},
   "outputs": [
    {
     "name": "stdout",
     "output_type": "stream",
     "text": [
      "Esta sentencia contiene una palabra clave: The Moon is Earth's only satellite\n",
      "Esta sentencia contiene una palabra clave: There are several interesting facts about the Moon and how it affects life here on Earth\n",
      "Esta sentencia contiene una palabra clave: \n",
      "On average, the Moon moves 4cm away from the Earth every year\n",
      "Esta sentencia contiene una palabra clave: This yearly drift is not significant enough to cause immediate effects on Earth\n",
      "Esta sentencia contiene una palabra clave: The high 4 Celsius\n"
     ]
    }
   ],
   "source": [
    "for sentence in split_text:\n",
    "    for key_word in key_words:\n",
    "        if key_word in sentence:\n",
    "            print(\"Esta sentencia contiene una palabra clave y fue cambiada: \" + sentence.replace(' C', ' Celsius'))\n",
    "            break"
   ]
  }
 ],
 "metadata": {
  "interpreter": {
   "hash": "1e309823aefdd3a222d82f504e51c656b7b13c086dde226daa6dd52365f564b4"
  },
  "kernelspec": {
   "display_name": "Python 3.10.2 64-bit (windows store)",
   "language": "python",
   "name": "python3"
  },
  "language_info": {
   "codemirror_mode": {
    "name": "ipython",
    "version": 3
   },
   "file_extension": ".py",
   "mimetype": "text/x-python",
   "name": "python",
   "nbconvert_exporter": "python",
   "pygments_lexer": "ipython3",
   "version": "3.10.2"
  },
  "orig_nbformat": 4
 },
 "nbformat": 4,
 "nbformat_minor": 2
}
